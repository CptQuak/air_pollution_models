{
 "cells": [
  {
   "cell_type": "code",
   "execution_count": 3,
   "metadata": {},
   "outputs": [],
   "source": [
    "import torch\n",
    "from torch import nn\n",
    "import pandas as pd\n",
    "import numpy as np\n",
    "import matplotlib.pyplot as plt\n",
    "import seaborn as sns\n",
    "plt.style.use('ggplot')\n",
    "\n",
    "import datetime\n",
    "# auto reolad zewnetrznych skryptow bez resetowania notebooka\n",
    "import sys\n",
    "sys.path.append('..')\n",
    "import models\n",
    "from utils.modeling_utils import SequenceGeneratorCV\n",
    "\n",
    "%reload_ext autoreload\n",
    "%autoreload 2\n",
    "\n",
    "DEVICE = \"cpu\""
   ]
  },
  {
   "attachments": {},
   "cell_type": "markdown",
   "metadata": {},
   "source": [
    "# Data prep"
   ]
  },
  {
   "cell_type": "code",
   "execution_count": 4,
   "metadata": {},
   "outputs": [],
   "source": [
    "df = pd.read_csv('../../data/csv/six_cities.csv')\n",
    "df['dt'] = pd.to_datetime(df['dt'])\n",
    "\n",
    "# tylko warszawa\n",
    "df = df[df['city'].isin(['Warszawa'])]\n",
    "df = df.reset_index(drop=True)\n",
    "#df.head()"
   ]
  },
  {
   "cell_type": "code",
   "execution_count": 5,
   "metadata": {},
   "outputs": [],
   "source": [
    "# na podstawie 96 godzin predykcja na dwa nastepne dni\n",
    "input_width, output_width = 96, 48\n",
    "\n",
    "# one moga zostac bez problemu jako stala czy cos, maja rozklady bardzo nienormalne\n",
    "normalize_features = ['humidity', 'clouds.all', 'rain.1h', 'snow.1h', 'co', 'no', 'no2', 'so2', 'pm2_5', 'pm10', 'nh3']\n",
    "\n",
    "# zmienne numeryczne ktore chcemy wykorzystac w modelu\n",
    "numeric_features = ['day_sin', 'day_cos', 'week_sin', 'week_cos', 'month_sin', 'month_cos', 'co', 'no']\n",
    "\n",
    "# zmienne kategoryczne ktore chcemy wykorzystac w modelu\n",
    "categorical_features = ['state']\n",
    "\n",
    "# zmienne ktorych chcemy robic predykcje\n",
    "output_columns = ['co', 'no']\n",
    "\n",
    "seq_gen = SequenceGeneratorCV(\n",
    "    numeric_features = numeric_features, \n",
    "    categorical_features = categorical_features,\n",
    "    output_features = output_columns,\n",
    "    normalize_features = normalize_features,\n",
    "    device = DEVICE \n",
    ")\n",
    "seq_gen.init_preprocessor(df[:10])"
   ]
  },
  {
   "cell_type": "code",
   "execution_count": 6,
   "metadata": {},
   "outputs": [],
   "source": [
    "cities_dfs, cv_indices = seq_gen.split_data(df, 5, False)\n",
    "for idx_train, idx_val in cv_indices:\n",
    "    df_train = pd.concat([city.loc[idx_train, :] for city in cities_dfs], axis=0)\n",
    "    df_val = pd.concat([city.loc[idx_val, :] for city in cities_dfs], axis=0)\n",
    "    df_train = seq_gen.preprocessor.fit_transform(df_train)\n",
    "    df_val = seq_gen.preprocessor.transform(df_val)\n",
    "\n",
    "    dataloader_train, dataloader_val = seq_gen.get_dataloaders(df_train, df_val)\n",
    "    break"
   ]
  },
  {
   "cell_type": "code",
   "execution_count": 7,
   "metadata": {},
   "outputs": [
    {
     "name": "stdout",
     "output_type": "stream",
     "text": [
      "torch.Size([144, 96, 9]) torch.Size([144, 48, 2]) torch.Size([144, 48, 2])\n"
     ]
    }
   ],
   "source": [
    "rnn_s2s = models.RNN_S2S(\n",
    "     seq_gen, 50, 1, 1\n",
    ")\n",
    "for X, y in dataloader_train:\n",
    "    y_p = rnn_s2s(X, y, 0.5)\n",
    "    print(X.shape, y.shape, y_p.shape)\n",
    "    break"
   ]
  }
 ],
 "metadata": {
  "kernelspec": {
   "display_name": "pzesp",
   "language": "python",
   "name": "python3"
  },
  "language_info": {
   "codemirror_mode": {
    "name": "ipython",
    "version": 3
   },
   "file_extension": ".py",
   "mimetype": "text/x-python",
   "name": "python",
   "nbconvert_exporter": "python",
   "pygments_lexer": "ipython3",
   "version": "3.9.6"
  },
  "orig_nbformat": 4
 },
 "nbformat": 4,
 "nbformat_minor": 2
}

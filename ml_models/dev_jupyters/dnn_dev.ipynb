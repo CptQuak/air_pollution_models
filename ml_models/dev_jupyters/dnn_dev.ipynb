{
 "cells": [
  {
   "cell_type": "code",
   "execution_count": 1,
   "metadata": {},
   "outputs": [],
   "source": [
    "import torch\n",
    "from torch import nn\n",
    "import pandas as pd\n",
    "import numpy as np\n",
    "import matplotlib.pyplot as plt\n",
    "import seaborn as sns\n",
    "plt.style.use('ggplot')\n",
    "\n",
    "import datetime\n",
    "# auto reolad zewnetrznych skryptow bez resetowania notebooka\n",
    "import sys\n",
    "sys.path.append('..')\n",
    "import models\n",
    "from utils.modeling_utils import SequenceGeneratorCV\n",
    "\n",
    "%reload_ext autoreload\n",
    "%autoreload 2\n",
    "\n",
    "DEVICE = \"cpu\""
   ]
  },
  {
   "cell_type": "code",
   "execution_count": 2,
   "metadata": {},
   "outputs": [],
   "source": [
    "df = pd.read_csv('../../data/csv/six_cities.csv')\n",
    "df['dt'] = pd.to_datetime(df['dt'])\n",
    "\n",
    "# tylko warszawa\n",
    "df = df[df['city'].isin(['Warszawa'])]\n",
    "df = df.reset_index(drop=True)\n",
    "#df.head()"
   ]
  },
  {
   "cell_type": "code",
   "execution_count": 3,
   "metadata": {},
   "outputs": [],
   "source": [
    "# one moga zostac bez problemu jako stala czy cos, maja rozklady bardzo nienormalne\n",
    "normalize_features = ['humidity', 'clouds.all', 'rain.1h', 'snow.1h', 'co', 'no', 'no2', 'so2', 'pm2_5', 'pm10', 'nh3']\n",
    "\n",
    "# zmienne numeryczne ktore chcemy wykorzystac w modelu\n",
    "numeric_features = ['day_sin', 'day_cos', 'week_sin', 'week_cos', 'month_sin', 'month_cos', 'co', 'no']\n",
    "\n",
    "# zmienne kategoryczne ktore chcemy wykorzystac w modelu\n",
    "categorical_features = ['state']\n",
    "\n",
    "# zmienne ktorych chcemy robic predykcje\n",
    "output_columns = ['co', 'no']\n",
    "\n",
    "seq_gen = SequenceGeneratorCV(\n",
    "    numeric_features = numeric_features, \n",
    "    categorical_features = categorical_features,\n",
    "    output_features = output_columns,\n",
    "    normalize_features = normalize_features,\n",
    "    device = DEVICE \n",
    ")\n",
    "seq_gen.init_preprocessor(df[:10])"
   ]
  },
  {
   "cell_type": "code",
   "execution_count": 4,
   "metadata": {},
   "outputs": [],
   "source": [
    "cities_dfs, cv_indices = seq_gen.split_data(df, 5, False)\n",
    "for idx_train, idx_val in cv_indices:\n",
    "    df_train = pd.concat([city.loc[idx_train, :] for city in cities_dfs], axis=0)\n",
    "    df_val = pd.concat([city.loc[idx_val, :] for city in cities_dfs], axis=0)\n",
    "    df_train = seq_gen.preprocessor.fit_transform(df_train)\n",
    "    df_val = seq_gen.preprocessor.transform(df_val)\n",
    "\n",
    "    dataloader_train, dataloader_val = seq_gen.get_dataloaders(df_train, df_val)\n",
    "    break"
   ]
  },
  {
   "cell_type": "code",
   "execution_count": 5,
   "metadata": {},
   "outputs": [
    {
     "name": "stdout",
     "output_type": "stream",
     "text": [
      "torch.Size([216, 168, 9]) torch.Size([216, 48, 2]) torch.Size([216, 48, 2])\n"
     ]
    }
   ],
   "source": [
    "dnn_model = models.DNN_model(\n",
    "    seq_gen = seq_gen,\n",
    "    hidden_list=[24,32,48,96]\n",
    ")\n",
    "\n",
    "for X, y in dataloader_train:\n",
    "    y_p = dnn_model(X)\n",
    "    print(X.shape, y_p.shape, y.shape)\n",
    "    break"
   ]
  },
  {
   "cell_type": "code",
   "execution_count": 9,
   "metadata": {},
   "outputs": [
    {
     "data": {
      "text/plain": [
       "1512"
      ]
     },
     "execution_count": 9,
     "metadata": {},
     "output_type": "execute_result"
    }
   ],
   "source": [
    "168*9"
   ]
  },
  {
   "cell_type": "code",
   "execution_count": 8,
   "metadata": {},
   "outputs": [
    {
     "data": {
      "text/plain": [
       "[torch.Size([24, 1512]),\n",
       " torch.Size([24]),\n",
       " torch.Size([32, 24]),\n",
       " torch.Size([32]),\n",
       " torch.Size([48, 32]),\n",
       " torch.Size([48]),\n",
       " torch.Size([96, 48]),\n",
       " torch.Size([96]),\n",
       " torch.Size([96, 96]),\n",
       " torch.Size([96])]"
      ]
     },
     "execution_count": 8,
     "metadata": {},
     "output_type": "execute_result"
    }
   ],
   "source": [
    "[i.shape for i in dnn_model.parameters()]"
   ]
  }
 ],
 "metadata": {
  "kernelspec": {
   "display_name": "pzlab",
   "language": "python",
   "name": "python3"
  },
  "language_info": {
   "codemirror_mode": {
    "name": "ipython",
    "version": 3
   },
   "file_extension": ".py",
   "mimetype": "text/x-python",
   "name": "python",
   "nbconvert_exporter": "python",
   "pygments_lexer": "ipython3",
   "version": "3.9.6"
  },
  "orig_nbformat": 4
 },
 "nbformat": 4,
 "nbformat_minor": 2
}
